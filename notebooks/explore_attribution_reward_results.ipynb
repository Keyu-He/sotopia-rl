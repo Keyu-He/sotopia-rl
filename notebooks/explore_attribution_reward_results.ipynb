{
 "cells": [
  {
   "cell_type": "code",
   "execution_count": null,
   "metadata": {},
   "outputs": [],
   "source": [
    "import json\n",
    "from collections import OrderedDict\n",
    "from pprint import pprint\n",
    "import rich\n",
    "\n",
    "with open(\"../data/openai_log_attribution.jsonl\", 'r') as f:\n",
    "    logs = [json.loads(line, object_hook=OrderedDict) for line in f]"
   ]
  },
  {
   "cell_type": "code",
   "execution_count": null,
   "metadata": {},
   "outputs": [],
   "source": [
    "def render_log(log):\n",
    "    print(log['scenario'] + \"\\n\")\n",
    "    print(\"Agent: \" + log['agent'] + \"\\n\")\n",
    "    print(\"Goal: \" + log['goal'] + \"\\n\")\n",
    "    \n",
    "    for key, val in log[\"attributed_utterances\"].items():\n",
    "        print(key)\n",
    "        print(\"Utterance: \", val[0])\n",
    "        print(\"Attribution: \", val[1] if val[1] else \"NA\")\n",
    "        print()\n",
    "\n",
    "render_log(logs[2])"
   ]
  },
  {
   "cell_type": "code",
   "execution_count": null,
   "metadata": {},
   "outputs": [],
   "source": [
    "import json\n",
    "from collections import OrderedDict\n",
    "\n",
    "with open(\"../data/human_log_attribution.jsonl\", 'r') as f:\n",
    "    human_logs = [json.loads(line, object_hook=OrderedDict) for line in f]"
   ]
  },
  {
   "cell_type": "code",
   "execution_count": null,
   "metadata": {},
   "outputs": [],
   "source": [
    "def render_log(log):\n",
    "    print(log['scenario'] + \"\\n\")\n",
    "    print(\"Agent: \" + log['agent'] + \"\\n\")\n",
    "    print(\"Goal: \" + log['goal'] + \"\\n\")\n",
    "    \n",
    "    for key, val in log[\"attributed_utterances\"].items():\n",
    "        print(val)\n",
    "        print(key)\n",
    "        print(\"Utterance: \", val[0])\n",
    "        print(\"Attribution: \", val[2] if val[2] else \"NA\")\n",
    "        print()\n",
    "\n",
    "render_log(human_logs[2])"
   ]
  }
 ],
 "metadata": {
  "kernelspec": {
   "display_name": "sotopia-rl",
   "language": "python",
   "name": "python3"
  },
  "language_info": {
   "codemirror_mode": {
    "name": "ipython",
    "version": 3
   },
   "file_extension": ".py",
   "mimetype": "text/x-python",
   "name": "python",
   "nbconvert_exporter": "python",
   "pygments_lexer": "ipython3",
   "version": "3.11.8"
  }
 },
 "nbformat": 4,
 "nbformat_minor": 2
}

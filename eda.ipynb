{
 "cells": [
  {
   "cell_type": "code",
   "execution_count": null,
   "metadata": {},
   "outputs": [],
   "source": [
    "import jsonlines\n",
    "\n",
    "with open(\"./saves/llama3-8b/lora/rm/generated_predictions.jsonl\", \"r\") as f:\n",
    "    predictions = list(jsonlines.Reader(f))"
   ]
  },
  {
   "cell_type": "code",
   "execution_count": null,
   "metadata": {},
   "outputs": [],
   "source": [
    "%pwd"
   ]
  },
  {
   "cell_type": "code",
   "execution_count": null,
   "metadata": {},
   "outputs": [],
   "source": [
    "import json\n",
    "\n",
    "with open(\"./data/sotopia_pi_preference_data.json\", \"r\") as f:\n",
    "    input_data = json.load(f)"
   ]
  },
  {
   "cell_type": "code",
   "execution_count": null,
   "metadata": {},
   "outputs": [],
   "source": [
    "assert len(predictions) == len(input_data)"
   ]
  },
  {
   "cell_type": "code",
   "execution_count": null,
   "metadata": {},
   "outputs": [],
   "source": [
    "def print_stats(data):\n",
    "    pairs = []\n",
    "    for i in range(0, len(data), 2):\n",
    "        if \"left the conversation\" in data[i][1]['instruction'] and \"left the conversation\" in data[i+1][1]['instruction']:\n",
    "            continue\n",
    "        if \"did nothing\" in data[i][1]['instruction'] and \"did nothing\" in data[i+1][1]['instruction']:\n",
    "            continue\n",
    "        pairs.append((data[i][0]['score'], data[i+1][0]['score'], data[i][1]['instruction'], data[i+1][1]['instruction']))\n",
    "\n",
    "    count_first_better = 0\n",
    "    count_second_better = 0\n",
    "    count_same = 0\n",
    "    first_better_diffs = []\n",
    "    second_better_diffs = []\n",
    "    for pair in pairs:\n",
    "        if pair[0] > pair[1]:\n",
    "            print(pair[2])\n",
    "            print(pair[3])\n",
    "            first_better_diffs.append(pair[0] - pair[1])\n",
    "            count_first_better += 1\n",
    "        elif pair[0] < pair[1]:\n",
    "            second_better_diffs.append(pair[1] - pair[0])\n",
    "            count_second_better += 1\n",
    "        else:\n",
    "            count_same += 1\n",
    "\n",
    "    print(\"3.5 better:\", count_first_better)\n",
    "    print(\"4o better:\", count_second_better)\n",
    "    print(\"draw:\", count_same)\n",
    "    print(\"3.5 win average diff:\", sum(first_better_diffs) / len(first_better_diffs))\n",
    "    print(\"4o win average diff:\", sum(second_better_diffs) / len(second_better_diffs))\n",
    "\n",
    "print_stats(list(zip(predictions, input_data)))"
   ]
  },
  {
   "cell_type": "code",
   "execution_count": null,
   "metadata": {},
   "outputs": [],
   "source": [
    "import jsonlines\n",
    "\n",
    "with open(\"./saves/llama3-8b/lora/key-uttr-rm/generated_predictions.jsonl\", \"r\") as f:\n",
    "    predictions = list(jsonlines.Reader(f))"
   ]
  },
  {
   "cell_type": "code",
   "execution_count": null,
   "metadata": {},
   "outputs": [],
   "source": [
    "print_stats(list(zip(predictions, input_data)))"
   ]
  }
 ],
 "metadata": {
  "kernelspec": {
   "display_name": "sotopia-rl",
   "language": "python",
   "name": "python3"
  },
  "language_info": {
   "codemirror_mode": {
    "name": "ipython",
    "version": 3
   },
   "file_extension": ".py",
   "mimetype": "text/x-python",
   "name": "python",
   "nbconvert_exporter": "python",
   "pygments_lexer": "ipython3",
   "version": "3.10.14"
  }
 },
 "nbformat": 4,
 "nbformat_minor": 2
}

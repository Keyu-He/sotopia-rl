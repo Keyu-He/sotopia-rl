{
 "cells": [
  {
   "cell_type": "code",
   "execution_count": null,
   "metadata": {},
   "outputs": [],
   "source": [
    "import json\n",
    "\n",
    "with open(\"sotopia_pi_bc_episodes_reward_goal_progress_gpt-4o.json\", 'r') as f:\n",
    "    data = json.load(f)\n",
    "\n",
    "print(len(data))\n",
    "print(data[0].keys())\n",
    "\n",
    "new_data = []\n",
    "for d in data:\n",
    "    if d['value'] > 0:\n",
    "        new_data.append(d)\n",
    "\n",
    "with open(\"sotopia_pi_bc_episodes_reward_goal_progress_gpt-4o_only_pos.json\", 'w') as f:\n",
    "    data = json.dump(new_data, f)\n",
    "print(len(new_data))"
   ]
  },
  {
   "cell_type": "code",
   "execution_count": null,
   "metadata": {},
   "outputs": [],
   "source": [
    "import json\n",
    "from collections import Counter\n",
    "with open(\"sotopia_pi_bc_episodes_reward_only_response_gpt-4o.json\", 'r') as f:\n",
    "    data = json.load(f)\n",
    "\n",
    "print(len(data))\n",
    "print(data[0].keys())\n",
    "print(Counter([d['value'] for d in data]))\n",
    "new_data = []\n",
    "for d in data:\n",
    "    if d['value'] > 0:\n",
    "        new_data.append(d)\n",
    "\n",
    "with open(\"sotopia_pi_bc_episodes_reward_only_response_gpt-4o_only_pos.json\", 'w') as f:\n",
    "    data = json.dump(new_data, f)\n",
    "print(len(new_data))"
   ]
  }
 ],
 "metadata": {
  "kernelspec": {
   "display_name": "sotopia-rl",
   "language": "python",
   "name": "python3"
  },
  "language_info": {
   "codemirror_mode": {
    "name": "ipython",
    "version": 3
   },
   "file_extension": ".py",
   "mimetype": "text/x-python",
   "name": "python",
   "nbconvert_exporter": "python",
   "pygments_lexer": "ipython3",
   "version": "3.10.16"
  }
 },
 "nbformat": 4,
 "nbformat_minor": 2
}

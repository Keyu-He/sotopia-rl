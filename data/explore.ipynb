{
 "cells": [
  {
   "cell_type": "code",
   "execution_count": 6,
   "metadata": {},
   "outputs": [],
   "source": [
    "import json\n",
    "with open(\"sotopia_pi_bc_episodes_reward_direct_5-scale_gpt-4o.json\", 'r') as f:\n",
    "    direct_5 = json.load(f)\n",
    "with open(\"sotopia_pi_bc_episodes_reward_direct_default_o3-mini.json\", 'r') as f:\n",
    "    direct_o3 = json.load(f)\n",
    "with open(\"sotopia_pi_bc_episodes_reward_direct_average_gpt-4o.json\", 'r') as f:\n",
    "    direct_avg = json.load(f)\n",
    "with open(\"sotopia_pi_bc_episodes_reward_discounting.json\", 'r') as f:\n",
    "    discounting = json.load(f)\n",
    "with open(\"sotopia_pi_bc_episodes_reward_goal_progress_gpt-4o.json\", 'r') as f:\n",
    "    goal_progress = json.load(f)\n",
    "with open(\"sotopia_pi_bc_episodes_reward_only_response_gpt-4o.json\", 'r') as f:\n",
    "    only_response = json.load(f)\n",
    "with open(\"sotopia_pi_bc_episodes_reward_utterance_quality_gpt-4o.json\", 'r') as f:\n",
    "    utterance_quality = json.load(f)\n",
    "\n",
    "from collections import Counter"
   ]
  },
  {
   "cell_type": "code",
   "execution_count": 9,
   "metadata": {},
   "outputs": [],
   "source": [
    "counter_direct_5 = Counter([dic[\"value\"] for dic in direct_5])\n",
    "counter_direct_o3 = Counter([dic[\"value\"] for dic in direct_o3])\n",
    "counter_direct_avg = Counter([dic[\"value\"] for dic in direct_avg])\n",
    "counter_discounting = Counter([dic[\"value\"] for dic in discounting])\n",
    "counter_goal_progress = Counter([dic[\"value\"] for dic in goal_progress])\n",
    "counter_only_response = Counter([dic[\"value\"] for dic in only_response])\n",
    "counter_utterance_quality = Counter([dic[\"value\"] for dic in utterance_quality])"
   ]
  },
  {
   "cell_type": "code",
   "execution_count": 17,
   "metadata": {},
   "outputs": [
    {
     "ename": "NameError",
     "evalue": "name 'counter_direct_5' is not defined",
     "output_type": "error",
     "traceback": [
      "\u001b[0;31m---------------------------------------------------------------------------\u001b[0m",
      "\u001b[0;31mNameError\u001b[0m                                 Traceback (most recent call last)",
      "Cell \u001b[0;32mIn[17], line 14\u001b[0m\n\u001b[1;32m     11\u001b[0m     \u001b[38;5;28mprint\u001b[39m()\n\u001b[1;32m     12\u001b[0m     \u001b[38;5;28mprint\u001b[39m(\u001b[38;5;28msum\u001b[39m([v \u001b[38;5;28;01mfor\u001b[39;00m k, v \u001b[38;5;129;01min\u001b[39;00m counter\u001b[38;5;241m.\u001b[39mitems()]), \u001b[38;5;124m\"\u001b[39m\u001b[38;5;124mtotal\u001b[39m\u001b[38;5;124m\"\u001b[39m)\n\u001b[0;32m---> 14\u001b[0m plot_6_buckets(\u001b[43mcounter_direct_5\u001b[49m, \u001b[38;5;124m\"\u001b[39m\u001b[38;5;124mdirect_5\u001b[39m\u001b[38;5;124m\"\u001b[39m)\n\u001b[1;32m     15\u001b[0m plot_6_buckets(counter_direct_o3, \u001b[38;5;124m\"\u001b[39m\u001b[38;5;124mdirect_o3\u001b[39m\u001b[38;5;124m\"\u001b[39m)\n\u001b[1;32m     16\u001b[0m plot_6_buckets(counter_direct_avg, \u001b[38;5;124m\"\u001b[39m\u001b[38;5;124mdirect_avg\u001b[39m\u001b[38;5;124m\"\u001b[39m)\n",
      "\u001b[0;31mNameError\u001b[0m: name 'counter_direct_5' is not defined"
     ]
    }
   ],
   "source": [
    "def plot_6_buckets(counter, title):\n",
    "    # plot 6 buckets: -inf to 0, 0 to 2, 2 to 4, 4 to 6, 6 to 8, 8 to inf\n",
    "    print(title)\n",
    "    print(\"bucket\\tcount\")\n",
    "    count = sum([v for k, v in counter.items() if k < 0])\n",
    "    print(\"-inf to 0\\t\", count)\n",
    "    for i in range(5):\n",
    "        count = sum([v for k, v in counter.items() if i*2 <= k < (i+1)*2])\n",
    "        print(f\"{i*2} to {(i+1)*2}\\t{count}\")\n",
    "    count = sum([v for k, v in counter.items() if k >= 10])\n",
    "    print()\n",
    "    print(sum([v for k, v in counter.items()]), \"total\")\n",
    "    \n",
    "plot_6_buckets(counter_direct_5, \"direct_5\")\n",
    "plot_6_buckets(counter_direct_o3, \"direct_o3\")\n",
    "plot_6_buckets(counter_direct_avg, \"direct_avg\")\n",
    "plot_6_buckets(counter_discounting, \"discounting\")\n",
    "plot_6_buckets(counter_goal_progress, \"goal_progress\")\n",
    "plot_6_buckets(counter_only_response, \"only_response\")\n",
    "plot_6_buckets(counter_utterance_quality, \"utterance_quality\")"
   ]
  },
  {
   "cell_type": "code",
   "execution_count": 27,
   "metadata": {},
   "outputs": [
    {
     "name": "stdout",
     "output_type": "stream",
     "text": [
      "7557\n",
      "7568\n",
      "7557\n"
     ]
    }
   ],
   "source": [
    "def get_hash(input, output):\n",
    "    return f\"{input}->{output}\"\n",
    "\n",
    "goal_progress_hash = set()\n",
    "for goal_progress_dic in goal_progress:\n",
    "    goal_progress_dic[\"hash\"] = get_hash(goal_progress_dic[\"input\"], goal_progress_dic[\"output\"])\n",
    "    goal_progress_hash.add(goal_progress_dic[\"hash\"])\n",
    "print(len(goal_progress_hash))\n",
    "\n",
    "only_response_hash = set()\n",
    "for only_response_dic in only_response:\n",
    "    only_response_dic[\"hash\"] = get_hash(only_response_dic[\"input\"], only_response_dic[\"output\"])\n",
    "    only_response_hash.add(only_response_dic[\"hash\"])\n",
    "print(len(only_response_hash))\n",
    "\n",
    "print(len(goal_progress_hash & only_response_hash))"
   ]
  },
  {
   "cell_type": "code",
   "execution_count": 28,
   "metadata": {},
   "outputs": [],
   "source": [
    "goal_progress_dict = {dic[\"hash\"]: dic for dic in goal_progress}\n",
    "only_response_dict = {dic[\"hash\"]: dic for dic in only_response}"
   ]
  },
  {
   "cell_type": "code",
   "execution_count": 29,
   "metadata": {},
   "outputs": [
    {
     "name": "stdout",
     "output_type": "stream",
     "text": [
      "mixed\n",
      "bucket\tcount\n",
      "-inf to 0\t 85\n",
      "0 to 2\t753\n",
      "2 to 4\t1222\n",
      "4 to 6\t3655\n",
      "6 to 8\t1339\n",
      "8 to 10\t444\n",
      "\n",
      "7557 total\n"
     ]
    }
   ],
   "source": [
    "weights = [0.5, 0.5]\n",
    "mixed = []\n",
    "for goal_progress_record in goal_progress:\n",
    "    hash_key = get_hash(goal_progress_record[\"input\"], goal_progress_record[\"output\"])\n",
    "    only_response_record = only_response_dict[hash_key]\n",
    "    mixed.append({\n",
    "        \"input\": goal_progress_record[\"input\"],\n",
    "        \"output\": goal_progress_record[\"output\"],\n",
    "        \"value\": goal_progress_record[\"value\"] * weights[0] + only_response_record[\"value\"] * weights[1]\n",
    "    })\n",
    "plot_6_buckets(Counter([dic[\"value\"] for dic in mixed]), \"mixed\")"
   ]
  },
  {
   "cell_type": "code",
   "execution_count": 24,
   "metadata": {},
   "outputs": [],
   "source": [
    "with open(\"sotopia_pi_bc_episodes_reward_mixed.json\", 'w') as f:\n",
    "    json.dump(mixed, f, indent=2)"
   ]
  },
  {
   "cell_type": "code",
   "execution_count": 32,
   "metadata": {},
   "outputs": [
    {
     "name": "stdout",
     "output_type": "stream",
     "text": [
      "7568\n",
      "7568\n",
      "7568\n"
     ]
    }
   ],
   "source": [
    "def get_hash(input, output):\n",
    "    return f\"{input}->{output}\"\n",
    "\n",
    "direct_o3_hash = set()\n",
    "for direct_o3_dic in direct_o3:\n",
    "    direct_o3_dic[\"hash\"] = get_hash(direct_o3_dic[\"input\"], direct_o3_dic[\"output\"])\n",
    "    direct_o3_hash.add(direct_o3_dic[\"hash\"])\n",
    "print(len(direct_o3_hash))\n",
    "\n",
    "only_response_hash = set()\n",
    "for only_response_dic in only_response:\n",
    "    only_response_dic[\"hash\"] = get_hash(only_response_dic[\"input\"], only_response_dic[\"output\"])\n",
    "    only_response_hash.add(only_response_dic[\"hash\"])\n",
    "print(len(only_response_hash))\n",
    "\n",
    "print(len(direct_o3_hash & only_response_hash))"
   ]
  },
  {
   "cell_type": "code",
   "execution_count": 33,
   "metadata": {},
   "outputs": [],
   "source": [
    "direct_o3_dict = {dic[\"hash\"]: dic for dic in direct_o3}\n",
    "only_response_dict = {dic[\"hash\"]: dic for dic in only_response}"
   ]
  },
  {
   "cell_type": "code",
   "execution_count": 34,
   "metadata": {},
   "outputs": [
    {
     "name": "stdout",
     "output_type": "stream",
     "text": [
      "mixed\n",
      "bucket\tcount\n",
      "-inf to 0\t 3\n",
      "0 to 2\t714\n",
      "2 to 4\t537\n",
      "4 to 6\t1560\n",
      "6 to 8\t2788\n",
      "8 to 10\t1247\n",
      "\n",
      "7575 total\n"
     ]
    }
   ],
   "source": [
    "weights = [0.5, 0.5]\n",
    "mixed = []\n",
    "for direct_o3_record in direct_o3:\n",
    "    hash_key = get_hash(direct_o3_record[\"input\"], direct_o3_record[\"output\"])\n",
    "    only_response_record = only_response_dict[hash_key]\n",
    "    mixed.append({\n",
    "        \"input\": direct_o3_record[\"input\"],\n",
    "        \"output\": direct_o3_record[\"output\"],\n",
    "        \"value\": direct_o3_record[\"value\"] * weights[0] + only_response_record[\"value\"] * weights[1]\n",
    "    })\n",
    "plot_6_buckets(Counter([dic[\"value\"] for dic in mixed]), \"mixed\")"
   ]
  },
  {
   "cell_type": "code",
   "execution_count": 35,
   "metadata": {},
   "outputs": [],
   "source": [
    "with open(\"sotopia_pi_bc_episodes_reward_mixed_direct_o3_only_response.json\", 'w') as f:\n",
    "    json.dump(mixed, f, indent=2)"
   ]
  },
  {
   "cell_type": "code",
   "execution_count": 11,
   "metadata": {},
   "outputs": [],
   "source": [
    "import json\n",
    "with open(\"sotopia_pi_bc_episodes_reward_direct_default_gpt-4o.json\", 'r') as f:\n",
    "    data = json.load(f)"
   ]
  },
  {
   "cell_type": "code",
   "execution_count": 22,
   "metadata": {},
   "outputs": [
    {
     "name": "stdout",
     "output_type": "stream",
     "text": [
      "9\n"
     ]
    }
   ],
   "source": [
    "new_data = []\n",
    "neg_count = 0\n",
    "for d in data:\n",
    "    if d[\"value\"] < 0:\n",
    "        neg_count += 1\n",
    "    new_d = {\"input\": d[\"input\"], \"output\": d[\"output\"], \"value\": d[\"value\"] if d[\"value\"] >= 0 else 0}\n",
    "    new_data.append(new_d)\n",
    "print(neg_count)"
   ]
  },
  {
   "cell_type": "code",
   "execution_count": 23,
   "metadata": {},
   "outputs": [
    {
     "name": "stdout",
     "output_type": "stream",
     "text": [
      "mixed\n",
      "bucket\tcount\n",
      "-inf to 0\t 0\n",
      "0 to 2\t1961\n",
      "2 to 4\t2463\n",
      "4 to 6\t381\n",
      "6 to 8\t1583\n",
      "8 to 10\t214\n",
      "\n",
      "7568 total\n"
     ]
    }
   ],
   "source": [
    "from collections import Counter\n",
    "\n",
    "counter_direct = Counter([dic[\"value\"] for dic in new_data])\n",
    "plot_6_buckets(Counter(counter_direct), \"mixed\")"
   ]
  },
  {
   "cell_type": "code",
   "execution_count": 25,
   "metadata": {},
   "outputs": [],
   "source": [
    "with open(\"sotopia_pi_bc_episodes_reward_direct_default_gpt-4o_non_neg.json\", 'w') as f:\n",
    "    json.dump(new_data, f, indent=4)"
   ]
  }
 ],
 "metadata": {
  "kernelspec": {
   "display_name": "sotopia-rl",
   "language": "python",
   "name": "python3"
  },
  "language_info": {
   "codemirror_mode": {
    "name": "ipython",
    "version": 3
   },
   "file_extension": ".py",
   "mimetype": "text/x-python",
   "name": "python",
   "nbconvert_exporter": "python",
   "pygments_lexer": "ipython3",
   "version": "3.10.16"
  }
 },
 "nbformat": 4,
 "nbformat_minor": 2
}

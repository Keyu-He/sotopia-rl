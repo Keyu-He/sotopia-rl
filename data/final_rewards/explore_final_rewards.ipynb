{
 "cells": [
  {
   "cell_type": "code",
   "execution_count": null,
   "metadata": {},
   "outputs": [],
   "source": [
    "import json\n",
    "import rich\n",
    "with open(\"sotopia_pi_bc_episodes_reward_all_the_same.json\", 'r') as f:\n",
    "    all_the_same = json.load(f)\n",
    "print(len(all_the_same))\n",
    "\n",
    "with open(\"sotopia_pi_bc_episodes_reward_direct_10-scale_no_goal_gpt-4o.json\", 'r') as f:\n",
    "    direct_10_scale = json.load(f)\n",
    "print(len(direct_10_scale))\n",
    "\n",
    "with open(\"sotopia_pi_bc_episodes_reward_direct_default_no_goal_gpt-4o.json\", 'r') as f:\n",
    "    direct_default = json.load(f)\n",
    "print(len(direct_default))\n",
    "\n",
    "with open(\"sotopia_pi_bc_episodes_reward_direct_default_normalized_no_goal_gpt-4o.json\", 'r') as f:\n",
    "    direct_default_normalized = json.load(f)\n",
    "print(len(direct_default_normalized))\n",
    "\n",
    "with open(\"sotopia_pi_bc_episodes_reward_key_utterance_no_goal_gpt-4o.json\", 'r') as f:\n",
    "    key_utterance = json.load(f)\n",
    "print(len(key_utterance))\n",
    "\n",
    "with open(\"sotopia_pi_bc_episodes_reward_only_response_no_goal_gpt-4o.json\", 'r') as f:\n",
    "    only_response = json.load(f)\n",
    "print(len(only_response))\n",
    "\n",
    "with open(\"sotopia_pi_bc_episodes_reward_utterance_quality_no_goal_gpt-4o.json\", 'r') as f:\n",
    "    utterance_quality = json.load(f)\n",
    "print(len(utterance_quality))"
   ]
  },
  {
   "cell_type": "code",
   "execution_count": null,
   "metadata": {},
   "outputs": [],
   "source": [
    "all_the_same_rewards = [episode['value'] for episode in all_the_same]\n",
    "direct_10_scale_rewards = [episode['value'] for episode in direct_10_scale]\n",
    "direct_default_rewards = [episode['value'] for episode in direct_default]\n",
    "direct_default_normalized_rewards = [episode['value'] for episode in direct_default_normalized]\n",
    "key_utterance_rewards = [episode['value'] for episode in key_utterance]\n",
    "only_response_rewards = [episode['value'] for episode in only_response]\n",
    "utterance_quality_rewards = [episode['value'] for episode in utterance_quality]"
   ]
  },
  {
   "cell_type": "code",
   "execution_count": null,
   "metadata": {},
   "outputs": [],
   "source": [
    "def plot_6_buckets(counter, title):\n",
    "    # plot 6 buckets: -inf to 0, 0 to 2, 2 to 4, 4 to 6, 6 to 8, 8 to 10\n",
    "    print(title)\n",
    "    print(\"bucket\\tcount\")\n",
    "    count = sum([v for k, v in counter.items() if k < 0])\n",
    "    print(\"-inf to 0\\t\", count)\n",
    "    for i in range(5):\n",
    "        count = sum([v for k, v in counter.items() if i*2 <= k < (i+1)*2])\n",
    "        print(f\"{i*2} to {(i+1)*2}\\t{count}\")\n",
    "    count = sum([v for k, v in counter.items() if k > 10])\n",
    "    print(\"10 to inf\", count)\n",
    "    print(sum([v for k, v in counter.items()]), \"total\")\n",
    "    print()"
   ]
  },
  {
   "cell_type": "code",
   "execution_count": null,
   "metadata": {},
   "outputs": [],
   "source": [
    "from collections import Counter\n",
    "plot_6_buckets(Counter(all_the_same_rewards), \"all_the_same\")\n",
    "plot_6_buckets(Counter(direct_10_scale_rewards), \"direct_10_scale\")\n",
    "plot_6_buckets(Counter(direct_default_rewards), \"direct_default\")\n",
    "plot_6_buckets(Counter(direct_default_normalized_rewards), \"direct_default_normalized\")\n",
    "plot_6_buckets(Counter(key_utterance_rewards), \"key_utterance\")\n",
    "plot_6_buckets(Counter(only_response_rewards), \"only_response\")\n",
    "plot_6_buckets(Counter(utterance_quality_rewards), \"utterance_quality\")"
   ]
  },
  {
   "cell_type": "code",
   "execution_count": null,
   "metadata": {},
   "outputs": [],
   "source": [
    "import json\n",
    "with open(\"../false_rewards/sotopia_pi_bc_episodes_reward_direct_default_no_goal_gpt-4o.json\", 'r') as f:\n",
    "    old_direct_default = json.load(f)\n",
    "with open(\"../sotopia_pi_bc_episodes_reward_direct_default_no_goal_gpt-4o_2.json\", 'r') as f:\n",
    "    direct_default_2 = json.load(f)"
   ]
  },
  {
   "cell_type": "code",
   "execution_count": null,
   "metadata": {},
   "outputs": [],
   "source": [
    "def get_hash(input, output):\n",
    "    return f\"{input}->{output}\""
   ]
  },
  {
   "cell_type": "code",
   "execution_count": null,
   "metadata": {},
   "outputs": [],
   "source": [
    "direct_default_map = {get_hash(d[\"input\"], d[\"output\"]): d[\"value\"] for d in direct_default}\n",
    "direct_default_2_map = {get_hash(d[\"input\"], d[\"output\"]): d[\"value\"] for d in direct_default_2}\n",
    "old_direct_default_map = {get_hash(d[\"input\"], d[\"output\"]): d[\"value\"] for d in old_direct_default}\n",
    "print(len(direct_default_map), len(old_direct_default_map))"
   ]
  },
  {
   "cell_type": "code",
   "execution_count": null,
   "metadata": {},
   "outputs": [],
   "source": [
    "import numpy as np\n",
    "from scipy.stats import pearsonr\n",
    "\n",
    "def calculate_correlation(map1, map2):\n",
    "    # Find common keys between the two maps\n",
    "    common_keys = set(map1.keys()).intersection(map2.keys())\n",
    "    if not common_keys:\n",
    "        raise ValueError(\"No common keys found between the two maps.\")\n",
    "\n",
    "    # Extract the corresponding values from both maps\n",
    "    values1 = np.array([map1[k] for k in common_keys])\n",
    "    values2 = np.array([map2[k] for k in common_keys])\n",
    "    \n",
    "    # Calculate Pearson correlation coefficient and p-value\n",
    "    correlation, p_value = pearsonr(values1, values2)\n",
    "    return correlation, p_value"
   ]
  },
  {
   "cell_type": "code",
   "execution_count": null,
   "metadata": {},
   "outputs": [],
   "source": [
    "def calculate_average_difference(map1, map2):\n",
    "    # Find common keys between the two maps\n",
    "    common_keys = set(map1.keys()).intersection(map2.keys())\n",
    "    if not common_keys:\n",
    "        raise ValueError(\"No common keys found between the two maps.\")\n",
    "\n",
    "    # Extract the corresponding values from both maps\n",
    "    values1 = np.array([map1[k] for k in common_keys])\n",
    "    values2 = np.array([map2[k] for k in common_keys])\n",
    "    \n",
    "    # Calculate average difference\n",
    "    average_difference = np.mean(np.abs(values1 - values2))\n",
    "    return average_difference"
   ]
  },
  {
   "cell_type": "code",
   "execution_count": null,
   "metadata": {},
   "outputs": [],
   "source": [
    "print(calculate_correlation(direct_default_map, old_direct_default_map))\n",
    "print(calculate_average_difference(direct_default_map, old_direct_default_map))"
   ]
  },
  {
   "cell_type": "code",
   "execution_count": null,
   "metadata": {},
   "outputs": [],
   "source": [
    "print(calculate_correlation(direct_default_map, direct_default_2_map))\n",
    "print(calculate_average_difference(direct_default_map, direct_default_2_map))"
   ]
  }
 ],
 "metadata": {
  "kernelspec": {
   "display_name": "sotopia-rl",
   "language": "python",
   "name": "python3"
  },
  "language_info": {
   "codemirror_mode": {
    "name": "ipython",
    "version": 3
   },
   "file_extension": ".py",
   "mimetype": "text/x-python",
   "name": "python",
   "nbconvert_exporter": "python",
   "pygments_lexer": "ipython3",
   "version": "3.10.16"
  }
 },
 "nbformat": 4,
 "nbformat_minor": 2
}

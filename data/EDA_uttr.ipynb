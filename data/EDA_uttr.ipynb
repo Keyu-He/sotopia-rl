{
 "cells": [
  {
   "cell_type": "code",
   "execution_count": null,
   "metadata": {},
   "outputs": [],
   "source": [
    "import json\n",
    "with open(\"sotopia_pi_openai_log_attribution.jsonl\") as f:\n",
    "    data = [json.loads(line) for line in f]"
   ]
  },
  {
   "cell_type": "code",
   "execution_count": null,
   "metadata": {},
   "outputs": [],
   "source": [
    "episode_scores = []\n",
    "for log in data:\n",
    "    scores = []\n",
    "    agent = log['agent']\n",
    "    for key in log['attributed_utterances']:\n",
    "        if agent in key:\n",
    "            scores.append(log['attributed_utterances'][key][1])\n",
    "    episode_scores.append(scores)"
   ]
  },
  {
   "cell_type": "code",
   "execution_count": null,
   "metadata": {},
   "outputs": [],
   "source": [
    "print(len(episode_scores))"
   ]
  },
  {
   "cell_type": "code",
   "execution_count": null,
   "metadata": {},
   "outputs": [],
   "source": [
    "# plot the distribution of average score of each episode\n",
    "import matplotlib.pyplot as plt\n",
    "average_scores = [sum(scores) / len(scores) for scores in episode_scores if len(scores) > 0]\n",
    "plt.hist(average_scores, bins=20)\n",
    "plt.xlabel('Average score of each episode')\n",
    "plt.ylabel('Frequency')\n",
    "plt.title('Distribution of average score of each episode')"
   ]
  },
  {
   "cell_type": "code",
   "execution_count": null,
   "metadata": {},
   "outputs": [],
   "source": [
    "# plot the length of each episode\n",
    "len_episodes = [len(scores) for scores in episode_scores]\n",
    "plt.figure()\n",
    "plt.hist(len_episodes, bins=20)\n",
    "plt.xlabel('Length of each episode')\n",
    "plt.ylabel('Frequency')\n",
    "plt.title('Distribution of length of each episode')"
   ]
  },
  {
   "cell_type": "code",
   "execution_count": null,
   "metadata": {},
   "outputs": [],
   "source": [
    "# plot the distribution of max score of each episode\n",
    "\n",
    "max_scores = [max(scores) for scores in episode_scores if len(scores) > 0]\n",
    "plt.hist(max_scores, bins=20)\n",
    "plt.xlabel('Max score of each episode')\n",
    "plt.ylabel('Frequency')\n",
    "plt.title('Distribution of max score of each episode')"
   ]
  },
  {
   "cell_type": "code",
   "execution_count": null,
   "metadata": {},
   "outputs": [],
   "source": [
    "# plot the distribution of min score of each episode\n",
    "\n",
    "max_scores = [min(scores) for scores in episode_scores if len(scores) > 0]\n",
    "plt.hist(max_scores, bins=20)\n",
    "plt.xlabel('Min score of each episode')\n",
    "plt.ylabel('Frequency')\n",
    "plt.title('Distribution of min score of each episode')"
   ]
  }
 ],
 "metadata": {
  "kernelspec": {
   "display_name": "sotopia-rl-4gc-Ucyx-py3.10",
   "language": "python",
   "name": "python3"
  },
  "language_info": {
   "codemirror_mode": {
    "name": "ipython",
    "version": 3
   },
   "file_extension": ".py",
   "mimetype": "text/x-python",
   "name": "python",
   "nbconvert_exporter": "python",
   "pygments_lexer": "ipython3",
   "version": "3.10.12"
  }
 },
 "nbformat": 4,
 "nbformat_minor": 2
}
